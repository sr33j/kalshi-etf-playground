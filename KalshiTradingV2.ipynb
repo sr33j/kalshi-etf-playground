{
 "cells": [
  {
   "cell_type": "code",
   "execution_count": 5,
   "metadata": {},
   "outputs": [],
   "source": [
    "# Welcome to the Kalshi REST v2 Starter Code!\n",
    "\n",
    "# pypi client: recommended for more advanced programmers\n",
    "import kalshi_python\n",
    "\n",
    "# starter client: recommended for all levels of programming experience (what this client is implemented using)\n",
    "from KalshiClientsBaseV2 import ExchangeClient\n",
    "import time\n",
    "import json\n",
    "import uuid"
   ]
  },
  {
   "cell_type": "code",
   "execution_count": 6,
   "metadata": {},
   "outputs": [
    {
     "data": {
      "text/plain": [
       "False"
      ]
     },
     "execution_count": 6,
     "metadata": {},
     "output_type": "execute_result"
    }
   ],
   "source": [
    "import os\n",
    "from dotenv import load_dotenv\n",
    "load_dotenv()"
   ]
  },
  {
   "cell_type": "code",
   "execution_count": 7,
   "metadata": {},
   "outputs": [
    {
     "ename": "KeyError",
     "evalue": "'KALSHI_PROD_EMAIL'",
     "output_type": "error",
     "traceback": [
      "\u001b[0;31m---------------------------------------------------------------------------\u001b[0m",
      "\u001b[0;31mKeyError\u001b[0m                                  Traceback (most recent call last)",
      "Cell \u001b[0;32mIn[7], line 4\u001b[0m\n\u001b[1;32m      1\u001b[0m \u001b[39m# To start off, you need to have created an account at https://kalshi.com (Production) \u001b[39;00m\n\u001b[1;32m      2\u001b[0m \u001b[39m# or an account on the Demo https://demo.kalshi.co/\u001b[39;00m\n\u001b[0;32m----> 4\u001b[0m prod_email \u001b[39m=\u001b[39m os\u001b[39m.\u001b[39;49menviron[\u001b[39m'\u001b[39;49m\u001b[39mKALSHI_PROD_EMAIL\u001b[39;49m\u001b[39m'\u001b[39;49m] \u001b[39m# change these to be your personal credentials\u001b[39;00m\n\u001b[1;32m      5\u001b[0m prod_password \u001b[39m=\u001b[39m os\u001b[39m.\u001b[39menviron[\u001b[39m'\u001b[39m\u001b[39mKALSHI_PROD_PASSWORD\u001b[39m\u001b[39m'\u001b[39m] \u001b[39m# (for extra security, we recommend using a config file)\u001b[39;00m\n\u001b[1;32m      7\u001b[0m demo_email \u001b[39m=\u001b[39m os\u001b[39m.\u001b[39menviron[\u001b[39m'\u001b[39m\u001b[39mKALSHI_DEMO_EMAIL\u001b[39m\u001b[39m'\u001b[39m] \u001b[39m# change these to be your personal credentials\u001b[39;00m\n",
      "File \u001b[0;32m~/miniforge3/envs/kalshi/lib/python3.8/os.py:675\u001b[0m, in \u001b[0;36m_Environ.__getitem__\u001b[0;34m(self, key)\u001b[0m\n\u001b[1;32m    672\u001b[0m     value \u001b[39m=\u001b[39m \u001b[39mself\u001b[39m\u001b[39m.\u001b[39m_data[\u001b[39mself\u001b[39m\u001b[39m.\u001b[39mencodekey(key)]\n\u001b[1;32m    673\u001b[0m \u001b[39mexcept\u001b[39;00m \u001b[39mKeyError\u001b[39;00m:\n\u001b[1;32m    674\u001b[0m     \u001b[39m# raise KeyError with the original key value\u001b[39;00m\n\u001b[0;32m--> 675\u001b[0m     \u001b[39mraise\u001b[39;00m \u001b[39mKeyError\u001b[39;00m(key) \u001b[39mfrom\u001b[39;00m \u001b[39mNone\u001b[39m\n\u001b[1;32m    676\u001b[0m \u001b[39mreturn\u001b[39;00m \u001b[39mself\u001b[39m\u001b[39m.\u001b[39mdecodevalue(value)\n",
      "\u001b[0;31mKeyError\u001b[0m: 'KALSHI_PROD_EMAIL'"
     ]
    }
   ],
   "source": [
    "# To start off, you need to have created an account at https://kalshi.com (Production) \n",
    "# or an account on the Demo https://demo.kalshi.co/\n",
    "\n",
    "prod_email = os.environ['KALSHI_PROD_EMAIL'] # change these to be your personal credentials\n",
    "prod_password = os.environ['KALSHI_PROD_PASSWORD'] # (for extra security, we recommend using a config file)\n",
    "\n",
    "demo_email = os.environ['KALSHI_DEMO_EMAIL'] # change these to be your personal credentials\n",
    "demo_password = os.environ['KALSHI_DEMO_PASSWORD'] # (for extra security, we recommend using a config file)\n",
    "\n",
    "# for prod\n",
    "prod_api_base = \"https://trading-api.kalshi.com/trade-api/v2\"\n",
    "\n",
    "# for demo\n",
    "demo_api_base = \"https://demo-api.kalshi.co/trade-api/v2\"\n",
    "\n",
    "## if wanting to test in prod:\n",
    "# exchange_client = ExchangeClient(exchange_api_base=prod_api_base, email = prod_email, password = prod_password)\n",
    "\n",
    "## if wanting to test in demo\n",
    "exchange_client = ExchangeClient(exchange_api_base = demo_api_base, email = demo_email, password = demo_password)\n",
    "\n",
    "# first we will check on the exchange status to confirm you are properly connected...\n",
    "print(exchange_client.get_exchange_status())"
   ]
  },
  {
   "cell_type": "code",
   "execution_count": 3,
   "metadata": {
    "tags": []
   },
   "outputs": [
    {
     "name": "stdout",
     "output_type": "stream",
     "text": [
      "keys: dict_keys(['markets', 'cursor'])\n",
      "\n",
      "number of objects: 100\n",
      "\n",
      "first market in payload: {'ticker': 'USDJPY-22NOV2918-T139.250', 'event_ticker': 'USDJPY-22NOV2918', 'subtitle': '>139.250', 'open_time': '2022-11-29T15:25:16Z', 'close_time': '2022-11-29T23:00:00Z', 'expiration_time': '2022-12-06T23:00:00Z', 'status': 'active', 'yes_bid': 0, 'yes_ask': 0, 'no_bid': 100, 'no_ask': 100, 'last_price': 0, 'previous_yes_bid': 0, 'previous_yes_ask': 0, 'previous_price': 0, 'volume': 0, 'volume_24h': 0, 'liquidity': 0, 'open_interest': 0, 'result': '', 'can_close_early': True, 'expiration_value': '', 'category': 'Financials', 'risk_limit_cents': 0}\n",
      "\n",
      "cursor: CgwIh_6NnAYQmLr0yQISFEhJR0hOWS0yMk5PVjI4LUI1My41\n"
     ]
    }
   ],
   "source": [
    "# You can discover markets through the get_markets endpoint...\n",
    "\n",
    "# and use query parameters to filter your search!\n",
    "market_params = {'limit':100,\n",
    "                    'cursor':None, # passing in the cursor from the previous get_markets call\n",
    "                    'event_ticker': None,\n",
    "                    'series_ticker':None,\n",
    "                    'max_close_ts':None, # pass in unix_ts\n",
    "                    'min_close_ts':None, # pass in unix_ts\n",
    "                    'status':None,\n",
    "                    'tickers':None}\n",
    "\n",
    "markets_response = exchange_client.get_markets(**market_params)\n",
    "cursor = markets_response['cursor']\n",
    "\n",
    "print('keys:', markets_response.keys())\n",
    "print()\n",
    "print('number of objects:', len(markets_response['markets'])) # 100 objects!\n",
    "print()\n",
    "print('first market in payload:', markets_response['markets'][0])\n",
    "print()\n",
    "print('cursor:', cursor)"
   ]
  },
  {
   "cell_type": "code",
   "execution_count": 4,
   "metadata": {},
   "outputs": [
    {
     "name": "stdout",
     "output_type": "stream",
     "text": [
      "keys: dict_keys(['markets', 'cursor'])\n",
      "\n",
      "number of objects: 100\n",
      "\n",
      "first market in market_response payload: {'ticker': 'HIGHNY-22NOV28-B51.5', 'event_ticker': 'HIGHNY-22NOV28', 'subtitle': '51° to 52°', 'open_time': '2022-11-27T15:25:16Z', 'close_time': '2022-11-29T04:59:00Z', 'expiration_time': '2022-12-05T15:00:00Z', 'status': 'closed', 'yes_bid': 0, 'yes_ask': 0, 'no_bid': 100, 'no_ask': 100, 'last_price': 0, 'previous_yes_bid': 0, 'previous_yes_ask': 0, 'previous_price': 0, 'volume': 0, 'volume_24h': 0, 'liquidity': 0, 'open_interest': 0, 'result': '', 'can_close_early': True, 'expiration_value': '', 'category': 'Climate and Weather', 'risk_limit_cents': 0}\n",
      "\n",
      "new cursor! CgwIiLiDnAYQiNTQhwESFEhJR0hOWS0yMk5PVjI2LUI1Ny41\n"
     ]
    }
   ],
   "source": [
    "# What are cursors and how do they work?\n",
    "    \n",
    "# The Cursor represents a pointer to the next page of records in the pagination.\n",
    "# So this optional parameter, when filled, should be filled with the cursor string returned in a previous request to this end-point.\n",
    "# Filling this would basically tell the api to get the next page containing the number of records passed on the limit parameter.\n",
    "# On the other side not filling it tells the api you want to get the first page for another query.\n",
    "# The cursor does not store any filters, so if any filter parameters like tickers, max_ts or min_ts were passed in the original query they must be passed again.\n",
    "\n",
    "# Let's try it in action! Suppose we wanted to get the next 100 market objects...\n",
    "\n",
    "market_params = {'limit':100,\n",
    "                    'cursor':cursor, # passing in the cursor from the previous get_markets call\n",
    "                    'event_ticker': None,\n",
    "                    'series_ticker': None,\n",
    "                    'max_close_ts': None, # pass in unix_ts\n",
    "                    'min_close_ts': None, # pass in unix_ts\n",
    "                    'status': None,\n",
    "                    'tickers':None}\n",
    "\n",
    "markets_response = exchange_client.get_markets(**market_params)\n",
    "cursor = markets_response['cursor']\n",
    "\n",
    "print('keys:', markets_response.keys())\n",
    "print()\n",
    "print('number of objects:', len(markets_response['markets'])) # 100 objects!\n",
    "print()\n",
    "print('first market in market_response payload:', markets_response['markets'][0]) # new markets!\n",
    "print()\n",
    "print('new cursor!', cursor)"
   ]
  },
  {
   "cell_type": "code",
   "execution_count": 5,
   "metadata": {},
   "outputs": [
    {
     "name": "stdout",
     "output_type": "stream",
     "text": [
      "keys: dict_keys(['event', 'markets'])\n",
      "\n",
      "event object: {'event_ticker': 'HIGHNY-22NOV27', 'series_ticker': 'HIGHNY', 'sub_title': 'On Nov 27, 2022', 'title': 'What will the high temp be in NYC on Nov 27, 2022?', 'mutually_exclusive': True, 'category': 'Climate and Weather'}\n",
      "\n",
      "first market in event_response payload: {'ticker': 'HIGHNY-22NOV27-T57', 'event_ticker': '', 'subtitle': '56° or lower', 'open_time': '2022-11-26T15:25:15Z', 'close_time': '2022-11-28T04:59:00Z', 'expiration_time': '2022-12-04T15:00:00Z', 'status': 'closed', 'yes_bid': 0, 'yes_ask': 0, 'no_bid': 0, 'no_ask': 0, 'last_price': 0, 'previous_yes_bid': 0, 'previous_yes_ask': 0, 'previous_price': 0, 'volume': 0, 'volume_24h': 0, 'liquidity': 0, 'open_interest': 0, 'result': '', 'can_close_early': True, 'expiration_value': '', 'category': '', 'risk_limit_cents': 0}\n"
     ]
    }
   ],
   "source": [
    "# Next, let's look at event level data by passing an event ticker to the get_event endpoint...\n",
    "\n",
    "event_ticker = markets_response['markets'][5]['event_ticker']\n",
    "event_params = {'event_ticker': event_ticker}\n",
    "event_response = exchange_client.get_event(**event_params)\n",
    "\n",
    "print('keys:', event_response.keys())\n",
    "print()\n",
    "print('event object:', event_response['event'])\n",
    "print()\n",
    "print('first market in event_response payload:', event_response['markets'][0])"
   ]
  },
  {
   "cell_type": "code",
   "execution_count": 6,
   "metadata": {},
   "outputs": [
    {
     "name": "stdout",
     "output_type": "stream",
     "text": [
      "keys: dict_keys(['series'])\n",
      "\n",
      "series object: {'ticker': 'HIGHNY', 'frequency': 'daily', 'title': 'NYC high temp'}\n",
      "\n"
     ]
    }
   ],
   "source": [
    "# Next, let's look at series level data by passing a series ticker to the get_series endpoint! \n",
    "series_ticker = event_response['event']['series_ticker']\n",
    "series_params = {'series_ticker': series_ticker}\n",
    "series_response = exchange_client.get_series(**series_params)\n",
    "\n",
    "print('keys:', series_response.keys())\n",
    "print()\n",
    "print('series object:', series_response['series'])\n",
    "print()"
   ]
  },
  {
   "cell_type": "code",
   "execution_count": 7,
   "metadata": {},
   "outputs": [
    {
     "name": "stdout",
     "output_type": "stream",
     "text": [
      "keys: dict_keys(['ticker', 'history', 'cursor'])\n",
      "\n",
      "most recent market history object: {'yes_price': 23, 'yes_bid': 23, 'yes_ask': 87, 'no_bid': 13, 'no_ask': 77, 'volume': 2761, 'open_interest': 1644, 'ts': 1669651310}\n",
      "\n",
      "keys: dict_keys(['orderbook'])\n",
      "\n",
      "orderbook object: {'orderbook': {'yes': [[1, 515], [23, 2503]], 'no': [[1, 1146], [2, 152], [3, 38], [6, 300], [7, 38], [12, 62], [13, 154]]}}\n",
      "\n"
     ]
    }
   ],
   "source": [
    "# Next let's look at the recent market history for a market\n",
    "ticker = 'NGDP-22-C7.5'\n",
    "\n",
    "market_history_params = {'ticker': ticker,\n",
    "                            'limit': 100,\n",
    "                            'cursor': None,\n",
    "                            'max_ts': None, # pass in unix_ts\n",
    "                            'min_ts': round(time.time()-1000000) # passing a recent unix_ts\n",
    "                                }\n",
    "market_history_response = exchange_client.get_market_history(**market_history_params)\n",
    "\n",
    "print('keys:', market_history_response.keys())\n",
    "print()\n",
    "print('most recent market history object:', market_history_response['history'][-1])\n",
    "print()\n",
    "\n",
    "# and then also look at the most current view of the orderbook\n",
    "market_history_params = {'ticker':ticker,\n",
    "                            'depth': 30\n",
    "                                }\n",
    "orderbook_response = exchange_client.get_orderbook(**market_history_params)\n",
    "\n",
    "print('keys:', orderbook_response.keys())\n",
    "print()\n",
    "print('orderbook object:', orderbook_response)\n",
    "print()"
   ]
  },
  {
   "cell_type": "code",
   "execution_count": 8,
   "metadata": {},
   "outputs": [
    {
     "data": {
      "text/plain": [
       "{'balance': 28268}"
      ]
     },
     "execution_count": 8,
     "metadata": {},
     "output_type": "execute_result"
    }
   ],
   "source": [
    "# Now let's suppose we wanted to place a trade on one of these markets... \n",
    "# to do so, we would first want to check out available balance...\n",
    "\n",
    "current_balance = exchange_client.get_balance()\n",
    "current_balance"
   ]
  },
  {
   "cell_type": "code",
   "execution_count": 9,
   "metadata": {},
   "outputs": [
    {
     "data": {
      "text/plain": [
       "{'cursor': 'CglURVNUSU5HLTU',\n",
       " 'market_positions': [{'ticker': 'NGDP-22-C7.5',\n",
       "   'total_traded': 1694,\n",
       "   'position': -22,\n",
       "   'market_exposure': 1694,\n",
       "   'realized_pnl': 0,\n",
       "   'resting_orders_count': 30,\n",
       "   'fees_paid': 28},\n",
       "  {'ticker': 'TESTING-5',\n",
       "   'total_traded': 109,\n",
       "   'position': 9,\n",
       "   'market_exposure': 9,\n",
       "   'realized_pnl': 0,\n",
       "   'resting_orders_count': 39,\n",
       "   'fees_paid': 1}],\n",
       " 'event_positions': [{'event_ticker': 'NGDP-22',\n",
       "   'total_cost': 1694,\n",
       "   'event_exposure': 1694,\n",
       "   'realized_pnl': 0,\n",
       "   'resting_order_count': 30,\n",
       "   'fees_paid': 28},\n",
       "  {'event_ticker': 'TESTING-5',\n",
       "   'total_cost': 109,\n",
       "   'event_exposure': 9,\n",
       "   'realized_pnl': 0,\n",
       "   'resting_order_count': 39,\n",
       "   'fees_paid': 1}]}"
      ]
     },
     "execution_count": 9,
     "metadata": {},
     "output_type": "execute_result"
    }
   ],
   "source": [
    "# Now that you have some balance, you might want to see how your current positions are doing...\n",
    "\n",
    "positions_params = {'limit': None,\n",
    "                        'cursor': None,\n",
    "                        'settlement_status': None,\n",
    "                        'ticker': None,\n",
    "                        'event_ticker': None}\n",
    "\n",
    "current_position = exchange_client.get_positions(**positions_params)\n",
    "current_position"
   ]
  },
  {
   "cell_type": "code",
   "execution_count": 10,
   "metadata": {},
   "outputs": [
    {
     "data": {
      "text/plain": [
       "{'fills': [{'trade_id': '59f55de3-0a69-47fe-82ce-298ba48c4446',\n",
       "   'ticker': 'TESTING-5',\n",
       "   'order_id': '0346556f-209a-497b-aaed-921c123cafde',\n",
       "   'side': 'no',\n",
       "   'action': '',\n",
       "   'count': 1,\n",
       "   'yes_price': 1,\n",
       "   'no_price': 99,\n",
       "   'is_taker': False,\n",
       "   'created_time': '2022-11-28T19:57:54Z'},\n",
       "  {'trade_id': '707870a0-04b0-4914-90c8-462011dc7627',\n",
       "   'ticker': 'NGDP-22-C7.5',\n",
       "   'order_id': '3bdac53a-b774-4f1a-a13c-815483d53f03',\n",
       "   'side': 'no',\n",
       "   'action': '',\n",
       "   'count': 3,\n",
       "   'yes_price': 23,\n",
       "   'no_price': 77,\n",
       "   'is_taker': True,\n",
       "   'created_time': '2022-11-28T16:01:50Z'},\n",
       "  {'trade_id': 'ffc9c05e-6c56-418d-ab67-522004889896',\n",
       "   'ticker': 'NGDP-22-C7.5',\n",
       "   'order_id': '4408da70-d13c-49b3-9a86-0deb9c90b9dc',\n",
       "   'side': 'no',\n",
       "   'action': '',\n",
       "   'count': 19,\n",
       "   'yes_price': 23,\n",
       "   'no_price': 77,\n",
       "   'is_taker': True,\n",
       "   'created_time': '2022-11-28T16:00:45Z'},\n",
       "  {'trade_id': 'ba0a3bee-8fad-4c2a-8792-6842599e2437',\n",
       "   'ticker': 'TESTING-5',\n",
       "   'order_id': 'ad1459df-0f72-4c09-8a1d-c9de5a7fb13b',\n",
       "   'side': 'yes',\n",
       "   'action': '',\n",
       "   'count': 10,\n",
       "   'yes_price': 1,\n",
       "   'no_price': 99,\n",
       "   'is_taker': True,\n",
       "   'created_time': '2022-11-28T15:19:05Z'}],\n",
       " 'cursor': 'EhIKELoKO-6PrUwqh5JoQlmeJDcaDAjpopOcBhCIkIXtAQ'}"
      ]
     },
     "execution_count": 10,
     "metadata": {},
     "output_type": "execute_result"
    }
   ],
   "source": [
    "# seems like some of your recent orders had been filled. To check on those we use the get_positions endpoint ...\n",
    "\n",
    "fills_params = {'ticker':None,\n",
    "                    'order_id':None,\n",
    "                    'min_ts':None,\n",
    "                    'max_ts':None,\n",
    "                    'limit': None,\n",
    "                    'cursor': None}\n",
    "\n",
    "fills = exchange_client.get_fills(**fills_params)\n",
    "fills"
   ]
  },
  {
   "cell_type": "code",
   "execution_count": 11,
   "metadata": {},
   "outputs": [
    {
     "data": {
      "text/plain": [
       "{'settlements': []}"
      ]
     },
     "execution_count": 11,
     "metadata": {},
     "output_type": "execute_result"
    }
   ],
   "source": [
    "# you may even want to check on some of your recent positions settled...\n",
    "\n",
    "settlement_params = {'limit': None,\n",
    "                        'cursor': None}\n",
    "\n",
    "settlements = exchange_client.get_portfolio_settlements(**settlement_params)\n",
    "settlements"
   ]
  },
  {
   "cell_type": "code",
   "execution_count": 12,
   "metadata": {},
   "outputs": [
    {
     "name": "stdout",
     "output_type": "stream",
     "text": [
      "{'ticker': 'TESTING-5', 'client_order_id': 'b5b2d443-3707-4215-ab2f-3104b3bf34c6', 'side': 'no', 'action': 'buy', 'count': 10, 'type': 'limit', 'no_price': 30}\n"
     ]
    },
    {
     "data": {
      "text/plain": [
       "{'order': {'order_id': '135403d3-ada5-4fcf-994c-eb433ad33c65',\n",
       "  'user_id': 'e93aedcf-e3fa-4a76-95c0-24c48b74746d',\n",
       "  'ticker': 'TESTING-5',\n",
       "  'status': 'resting',\n",
       "  'yes_price': 30,\n",
       "  'no_price': 70,\n",
       "  'created_time': '2022-11-29T16:44:58Z',\n",
       "  'taker_fill_count': 0,\n",
       "  'taker_fill_cost': 0,\n",
       "  'place_count': 10,\n",
       "  'decrease_count': 0,\n",
       "  'maker_fill_count': 0,\n",
       "  'fcc_cancel_count': 0,\n",
       "  'close_cancel_count': 0,\n",
       "  'remaining_count': 10,\n",
       "  'queue_position': 0,\n",
       "  'expiration_time': None,\n",
       "  'taker_fees': 0,\n",
       "  'action': 'buy',\n",
       "  'side': 'no',\n",
       "  'type': 'limit',\n",
       "  'client_order_id': 'b5b2d443-3707-4215-ab2f-3104b3bf34c6'}}"
      ]
     },
     "execution_count": 12,
     "metadata": {},
     "output_type": "execute_result"
    }
   ],
   "source": [
    "# Now onto placing an order...\n",
    "# There are many different ways to think about placing orders at Kalshi. \n",
    "# The following param examples will walk through some of those\n",
    "\n",
    "# Limit buy order for 10 units at 30c No on GDPW-22-A3\n",
    "\n",
    "ticker = 'TESTING-5'\n",
    "\n",
    "order_params = {'ticker':ticker,\n",
    "                    'client_order_id':str(uuid.uuid4()),\n",
    "                    'type':'limit',\n",
    "                    'action':'buy',\n",
    "                    'side':'no',\n",
    "                    'count':10,\n",
    "                    'yes_price':None, # yes_price = 100 - no_price\n",
    "                    'no_price':30, # no_price = 100 - yes_price\n",
    "                    'expiration_ts':None,\n",
    "                    'sell_position_floor':None,\n",
    "                    'buy_max_cost':None}\n",
    "\n",
    "exchange_client.create_order(**order_params)\n",
    "\n",
    "# EQUIVALENTLY, because buying No is equivalent to selling yes...\n",
    "\n",
    "# order_params = {'ticker':ticker,\n",
    "#                     'client_order_id':str(uuid.uuid4()),\n",
    "#                     'type':'limit',\n",
    "#                     'action':'sell',\n",
    "#                     'side':'yes',\n",
    "#                     'count':10,\n",
    "#                     'yes_price':None, # yes_price = 100 - no_price\n",
    "#                     'no_price':30, # no_price = 100 - yes_price\n",
    "#                     'expiration_ts':None,\n",
    "#                     'sell_position_floor':None,\n",
    "#                     'buy_max_cost':None}\n",
    "\n",
    "# exchange_client.create_order(**order_params)\n",
    "\n",
    "\n",
    "# # Market sell order for 12 units Yes on GDPW-22-A3, without flipping position\n",
    "\n",
    "# order_params = {'ticker':ticker,\n",
    "#                     'client_order_id':str(uuid.uuid4()),\n",
    "#                     'type':'market',\n",
    "#                     'action':'sell',\n",
    "#                     'side':'yes',\n",
    "#                     'count':12,\n",
    "#                     'yes_price':1,\n",
    "#                     'no_price':None,\n",
    "#                     'expiration_ts':None,\n",
    "#                     'sell_position_floor':0,\n",
    "#                     'buy_max_cost':None}\n",
    "\n",
    "# exchange_client.create_order(**order_params)\n",
    "\n",
    "# # EQUIVALENTLY, because buying No is equivalent to selling yes...\n",
    "\n",
    "# order_params = {'ticker':ticker,\n",
    "#                     'client_order_id':str(uuid.uuid4()),\n",
    "#                     'type':'market',\n",
    "#                     'action':'buy',\n",
    "#                     'side':'no',\n",
    "#                     'count':12,\n",
    "#                     'yes_price':1,\n",
    "#                     'no_price':None,\n",
    "#                     'expiration_ts':None,\n",
    "#                     'sell_position_floor':0,\n",
    "#                     'buy_max_cost':None}\n",
    "\n",
    "# exchange_client.create_order(**order_params)             \n"
   ]
  },
  {
   "cell_type": "code",
   "execution_count": null,
   "metadata": {},
   "outputs": [],
   "source": []
  }
 ],
 "metadata": {
  "kernelspec": {
   "display_name": "Python 3.8.15 ('kalshi')",
   "language": "python",
   "name": "python3"
  },
  "language_info": {
   "codemirror_mode": {
    "name": "ipython",
    "version": 3
   },
   "file_extension": ".py",
   "mimetype": "text/x-python",
   "name": "python",
   "nbconvert_exporter": "python",
   "pygments_lexer": "ipython3",
   "version": "3.8.15"
  },
  "orig_nbformat": 2,
  "vscode": {
   "interpreter": {
    "hash": "56d7245476847db54a2f1f504906a12644ff00b6d25bd1488a077d98c52e04d7"
   }
  }
 },
 "nbformat": 4,
 "nbformat_minor": 2
}
